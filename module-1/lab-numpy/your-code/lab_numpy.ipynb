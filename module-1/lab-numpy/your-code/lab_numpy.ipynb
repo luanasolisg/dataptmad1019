{
 "cells": [
  {
   "cell_type": "code",
   "execution_count": 1,
   "metadata": {},
   "outputs": [],
   "source": [
    "#1. Import the NUMPY package under the name np.\n",
    "import numpy as np\n",
    "\n",
    "#2. Print the NUMPY version and the configuration.\n",
    "\n",
    "\n",
    "\n",
    "\n",
    "\n"
   ]
  },
  {
   "cell_type": "code",
   "execution_count": 2,
   "metadata": {},
   "outputs": [
    {
     "name": "stdout",
     "output_type": "stream",
     "text": [
      "[[[0.14810714 0.94258184 0.67028779 0.47299064 0.12906809]\n",
      "  [0.49611799 0.36422163 0.3245805  0.38364258 0.26474526]\n",
      "  [0.80150948 0.46169048 0.48022891 0.56064671 0.90077407]]\n",
      "\n",
      " [[0.50400761 0.27554222 0.78008381 0.74011475 0.12485991]\n",
      "  [0.40342199 0.06245528 0.03121458 0.42658485 0.40811178]\n",
      "  [0.60393067 0.59534158 0.10551899 0.14433371 0.23029629]]]\n",
      "[[[0.67113604 0.76936481 0.9207662  0.53050333 0.62101008]\n",
      "  [0.33169142 0.50052958 0.59229638 0.89681538 0.10148835]\n",
      "  [0.8428519  0.14834014 0.89466693 0.30951461 0.04993403]]\n",
      "\n",
      " [[0.32276198 0.65625661 0.55600097 0.94987401 0.53024401]\n",
      "  [0.55026203 0.60831587 0.0425585  0.91558997 0.39634507]\n",
      "  [0.69682456 0.28867617 0.07840467 0.3233498  0.5284356 ]]]\n",
      "(2, 3, 5)\n"
     ]
    }
   ],
   "source": [
    "#3. Generate a 2x3x5 3-dimensional array with random values. Assign the array to variable \"a\"\n",
    "# Challenge: there are at least three easy ways that use numpy to generate random arrays. How many ways can you find?\n",
    "a1 = np.random.random((2,3,5))\n",
    "import numpy.random\n",
    "from numpy.random import random as a3\n",
    "a3 = ((2,3,5))\n",
    "\n",
    "#4. Print a.\n",
    "print(a1)\n",
    "print(np.random.random((2,3,5)))\n",
    "print(a3)"
   ]
  },
  {
   "cell_type": "code",
   "execution_count": 3,
   "metadata": {},
   "outputs": [
    {
     "name": "stdout",
     "output_type": "stream",
     "text": [
      "[[[1. 1. 1.]\n",
      "  [1. 1. 1.]]\n",
      "\n",
      " [[1. 1. 1.]\n",
      "  [1. 1. 1.]]\n",
      "\n",
      " [[1. 1. 1.]\n",
      "  [1. 1. 1.]]\n",
      "\n",
      " [[1. 1. 1.]\n",
      "  [1. 1. 1.]]\n",
      "\n",
      " [[1. 1. 1.]\n",
      "  [1. 1. 1.]]]\n"
     ]
    }
   ],
   "source": [
    "#5. Create a 5x2x3 3-dimensional array with all values equaling 1.\n",
    "#Assign the array to variable \"b\"\n",
    "\n",
    "import numpy as np\n",
    "\n",
    "b = np.ones((5,2,3))\n",
    "\n",
    "#6. Print b.\n",
    "\n",
    "print(b)\n"
   ]
  },
  {
   "cell_type": "code",
   "execution_count": 4,
   "metadata": {},
   "outputs": [
    {
     "name": "stdout",
     "output_type": "stream",
     "text": [
      "True\n"
     ]
    }
   ],
   "source": [
    "#7. Do a and b have the same size? How do you prove that in Python code?\n",
    "print(a1.size == b.size)\n",
    "\n",
    "\n"
   ]
  },
  {
   "cell_type": "code",
   "execution_count": 5,
   "metadata": {},
   "outputs": [],
   "source": [
    "#8. Are you able to add a and b? Why or why not?\n",
    "#NO BECAUSE THEY DO NOT HAVE THE SAME SIZE\n"
   ]
  },
  {
   "cell_type": "code",
   "execution_count": 6,
   "metadata": {},
   "outputs": [
    {
     "name": "stdout",
     "output_type": "stream",
     "text": [
      "[[[1. 1. 1. 1. 1.]\n",
      "  [1. 1. 1. 1. 1.]\n",
      "  [1. 1. 1. 1. 1.]]\n",
      "\n",
      " [[1. 1. 1. 1. 1.]\n",
      "  [1. 1. 1. 1. 1.]\n",
      "  [1. 1. 1. 1. 1.]]]\n"
     ]
    }
   ],
   "source": [
    "#9. Transpose b so that it has the same structure of a (i.e. become a 2x3x5 array). Assign the transposed array to varialbe \"c\".\n",
    "\n",
    "c = b.transpose(1,2,0)\n",
    "print(c)\n"
   ]
  },
  {
   "cell_type": "code",
   "execution_count": 7,
   "metadata": {},
   "outputs": [
    {
     "name": "stdout",
     "output_type": "stream",
     "text": [
      "[[[1.14810714 1.94258184 1.67028779 1.47299064 1.12906809]\n",
      "  [1.49611799 1.36422163 1.3245805  1.38364258 1.26474526]\n",
      "  [1.80150948 1.46169048 1.48022891 1.56064671 1.90077407]]\n",
      "\n",
      " [[1.50400761 1.27554222 1.78008381 1.74011475 1.12485991]\n",
      "  [1.40342199 1.06245528 1.03121458 1.42658485 1.40811178]\n",
      "  [1.60393067 1.59534158 1.10551899 1.14433371 1.23029629]]]\n"
     ]
    }
   ],
   "source": [
    "#10. Try to add a and c. Now it should work. Assign the sum to varialbe \"d\". But why does it work now?\n",
    "\n",
    "d = a1 + c\n",
    "print(d)\n"
   ]
  },
  {
   "cell_type": "code",
   "execution_count": 8,
   "metadata": {},
   "outputs": [
    {
     "name": "stdout",
     "output_type": "stream",
     "text": [
      "[[[1.14810714 1.94258184 1.67028779 1.47299064 1.12906809]\n",
      "  [1.49611799 1.36422163 1.3245805  1.38364258 1.26474526]\n",
      "  [1.80150948 1.46169048 1.48022891 1.56064671 1.90077407]]\n",
      "\n",
      " [[1.50400761 1.27554222 1.78008381 1.74011475 1.12485991]\n",
      "  [1.40342199 1.06245528 1.03121458 1.42658485 1.40811178]\n",
      "  [1.60393067 1.59534158 1.10551899 1.14433371 1.23029629]]]\n"
     ]
    }
   ],
   "source": [
    "#11. Print a and d. Notice the difference and relation of the two array in terms of the values? Explain.\n",
    "print(d)\n",
    "#NOW IT WORKS BECAUSE BOTH ARRAYS HAVE THE SAME SIZE\n"
   ]
  },
  {
   "cell_type": "code",
   "execution_count": 9,
   "metadata": {},
   "outputs": [
    {
     "name": "stdout",
     "output_type": "stream",
     "text": [
      "[[[0.14810714 0.94258184 0.67028779 0.47299064 0.12906809]\n",
      "  [0.49611799 0.36422163 0.3245805  0.38364258 0.26474526]\n",
      "  [0.80150948 0.46169048 0.48022891 0.56064671 0.90077407]]\n",
      "\n",
      " [[0.50400761 0.27554222 0.78008381 0.74011475 0.12485991]\n",
      "  [0.40342199 0.06245528 0.03121458 0.42658485 0.40811178]\n",
      "  [0.60393067 0.59534158 0.10551899 0.14433371 0.23029629]]]\n",
      "[[[ True  True  True  True  True]\n",
      "  [ True  True  True  True  True]\n",
      "  [ True  True  True  True  True]]\n",
      "\n",
      " [[ True  True  True  True  True]\n",
      "  [ True  True  True  True  True]\n",
      "  [ True  True  True  True  True]]]\n"
     ]
    }
   ],
   "source": [
    "#12. Multiply a and c. Assign the result to e.\n",
    "e = np.multiply(a1,c)\n",
    "\n",
    "print(e)\n",
    "\n",
    "print(e==a1)"
   ]
  },
  {
   "cell_type": "code",
   "execution_count": 12,
   "metadata": {},
   "outputs": [
    {
     "name": "stdout",
     "output_type": "stream",
     "text": [
      "1.9425818392144016\n",
      "1.0312145773949777\n",
      "1.4279003710231415\n"
     ]
    }
   ],
   "source": [
    "#14. Identify the max, min, and mean values in d. Assign those values to variables \"d_max\", \"d_min\", and \"d_mean\"\n",
    "d_max=np.amax(d)\n",
    "print(d_max)\n",
    "d_min=np.amin(d)\n",
    "print(d_min)\n",
    "d_mean=np.mean(d)\n",
    "print(d_mean)"
   ]
  },
  {
   "cell_type": "code",
   "execution_count": 15,
   "metadata": {},
   "outputs": [
    {
     "name": "stdout",
     "output_type": "stream",
     "text": [
      "[[[0.14810714 0.94258184 0.67028779 0.47299064 0.12906809]\n",
      "  [0.49611799 0.36422163 0.3245805  0.38364258 0.26474526]\n",
      "  [0.80150948 0.46169048 0.48022891 0.56064671 0.90077407]]\n",
      "\n",
      " [[0.50400761 0.27554222 0.78008381 0.74011475 0.12485991]\n",
      "  [0.40342199 0.06245528 0.03121458 0.42658485 0.40811178]\n",
      "  [0.60393067 0.59534158 0.10551899 0.14433371 0.23029629]]]\n"
     ]
    }
   ],
   "source": [
    "#15. Now we want to label the values in d. First create an empty array \"f\" with the same shape (i.e. 2x3x5) as d using `np.empty`.\n",
    "f=np.empty((2,3,5))\n",
    "print(f)"
   ]
  },
  {
   "cell_type": "code",
   "execution_count": null,
   "metadata": {},
   "outputs": [],
   "source": [
    "#16. Populate the values in f. For each value in d, if it's larger than d_min but smaller than d_mean, assign 25 to the corresponding value in f.\n",
    "    #d_mean> value > d_min --> 25\n",
    "#If a value in d is larger than d_mean but smaller than d_max, assign 75 to the corresponding value in f.\n",
    "    #d_max> value > d_mean --> 75\n",
    "#If a value equals to d_mean, assign 50 to the corresponding value in f.\n",
    "    #value = d_mean --> 50\n",
    "#Assign 0 to the corresponding value(s) in f for d_min in d.\n",
    "#value = d_mean --> 50\n",
    "#Assign 100 to the corresponding value(s) in f for d_max in d.\n",
    "#In the end, f should have only the following values: 0, 25, 50, 75, and 100.\n",
    "#Note: you don't have to use Numpy in this question.\n",
    "\"\"\"\n",
    "\n",
    "\n",
    "\n",
    "\n",
    "\"\"\"\n",
    "#17. Print d and f. Do you have your expected f?\n",
    "#For instance, if your d is:\n",
    "#array([[[1.85836099, 1.67064465, 1.62576044, 1.40243961, 1.88454931],\n",
    "        [1.75354326, 1.69403643, 1.36729252, 1.61415071, 1.12104981],\n",
    "        [1.72201435, 1.1862918 , 1.87078449, 1.7726778 , 1.88180042]],\n",
    "\n",
    "       [[1.44747908, 1.31673383, 1.02000951, 1.52218947, 1.97066381],\n",
    "        [1.79129243, 1.74983003, 1.96028037, 1.85166831, 1.65450881],\n",
    "        [1.18068344, 1.9587381 , 1.00656599, 1.93402165, 1.73514584]]])\n",
    "\n",
    "#Your f should be:\n",
    "#array([[[ 75.,  75.,  75.,  25.,  75.],\n",
    "        [ 75.,  75.,  25.,  25.,  25.],\n",
    "        [ 75.,  25.,  75.,  75.,  75.]],\n",
    "\n",
    "       [[ 25.,  25.,  25.,  25., 100.],\n",
    "        [ 75.,  75.,  75.,  75.,  75.],\n",
    "        [ 25.,  75.,   0.,  75.,  75.]]])\n",
    "\"\"\""
   ]
  }
 ],
 "metadata": {
  "kernelspec": {
   "display_name": "Python [conda env:data_env]",
   "language": "python",
   "name": "conda-env-data_env-py"
  },
  "language_info": {
   "codemirror_mode": {
    "name": "ipython",
    "version": 3
   },
   "file_extension": ".py",
   "mimetype": "text/x-python",
   "name": "python",
   "nbconvert_exporter": "python",
   "pygments_lexer": "ipython3",
   "version": "3.7.5"
  }
 },
 "nbformat": 4,
 "nbformat_minor": 2
}
