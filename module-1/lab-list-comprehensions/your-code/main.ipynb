{
 "cells": [
  {
   "cell_type": "markdown",
   "metadata": {},
   "source": [
    "# List Comprehensions Lab\n",
    "\n",
    "Complete the following set of exercises to solidify your knowledge of list comprehensions."
   ]
  },
  {
   "cell_type": "code",
   "execution_count": 1,
   "metadata": {},
   "outputs": [],
   "source": [
    "import os\n",
    "import numpy as np\n",
    "import pandas as pd"
   ]
  },
  {
   "cell_type": "markdown",
   "metadata": {},
   "source": [
    "### 1. Use a list comprehension to create and print a list of consecutive integers starting with 1 and ending with 50."
   ]
  },
  {
   "cell_type": "code",
   "execution_count": 2,
   "metadata": {},
   "outputs": [
    {
     "data": {
      "text/plain": [
       "[1,\n",
       " 2,\n",
       " 3,\n",
       " 4,\n",
       " 5,\n",
       " 6,\n",
       " 7,\n",
       " 8,\n",
       " 9,\n",
       " 10,\n",
       " 11,\n",
       " 12,\n",
       " 13,\n",
       " 14,\n",
       " 15,\n",
       " 16,\n",
       " 17,\n",
       " 18,\n",
       " 19,\n",
       " 20,\n",
       " 21,\n",
       " 22,\n",
       " 23,\n",
       " 24,\n",
       " 25,\n",
       " 26,\n",
       " 27,\n",
       " 28,\n",
       " 29,\n",
       " 30,\n",
       " 31,\n",
       " 32,\n",
       " 33,\n",
       " 34,\n",
       " 35,\n",
       " 36,\n",
       " 37,\n",
       " 38,\n",
       " 39,\n",
       " 40,\n",
       " 41,\n",
       " 42,\n",
       " 43,\n",
       " 44,\n",
       " 45,\n",
       " 46,\n",
       " 47,\n",
       " 48,\n",
       " 49,\n",
       " 50]"
      ]
     },
     "execution_count": 2,
     "metadata": {},
     "output_type": "execute_result"
    }
   ],
   "source": [
    "list1 = [(i+1) for i in range(50)]\n",
    "list1"
   ]
  },
  {
   "cell_type": "markdown",
   "metadata": {},
   "source": [
    "### 2. Use a list comprehension to create and print a list of even numbers starting with 2 and ending with 200."
   ]
  },
  {
   "cell_type": "code",
   "execution_count": 3,
   "metadata": {},
   "outputs": [
    {
     "data": {
      "text/plain": [
       "[2,\n",
       " 3,\n",
       " 4,\n",
       " 5,\n",
       " 6,\n",
       " 7,\n",
       " 8,\n",
       " 9,\n",
       " 10,\n",
       " 11,\n",
       " 12,\n",
       " 13,\n",
       " 14,\n",
       " 15,\n",
       " 16,\n",
       " 17,\n",
       " 18,\n",
       " 19,\n",
       " 20,\n",
       " 21,\n",
       " 22,\n",
       " 23,\n",
       " 24,\n",
       " 25,\n",
       " 26,\n",
       " 27,\n",
       " 28,\n",
       " 29,\n",
       " 30,\n",
       " 31,\n",
       " 32,\n",
       " 33,\n",
       " 34,\n",
       " 35,\n",
       " 36,\n",
       " 37,\n",
       " 38,\n",
       " 39,\n",
       " 40,\n",
       " 41,\n",
       " 42,\n",
       " 43,\n",
       " 44,\n",
       " 45,\n",
       " 46,\n",
       " 47,\n",
       " 48,\n",
       " 49,\n",
       " 50,\n",
       " 51,\n",
       " 52,\n",
       " 53,\n",
       " 54,\n",
       " 55,\n",
       " 56,\n",
       " 57,\n",
       " 58,\n",
       " 59,\n",
       " 60,\n",
       " 61,\n",
       " 62,\n",
       " 63,\n",
       " 64,\n",
       " 65,\n",
       " 66,\n",
       " 67,\n",
       " 68,\n",
       " 69,\n",
       " 70,\n",
       " 71,\n",
       " 72,\n",
       " 73,\n",
       " 74,\n",
       " 75,\n",
       " 76,\n",
       " 77,\n",
       " 78,\n",
       " 79,\n",
       " 80,\n",
       " 81,\n",
       " 82,\n",
       " 83,\n",
       " 84,\n",
       " 85,\n",
       " 86,\n",
       " 87,\n",
       " 88,\n",
       " 89,\n",
       " 90,\n",
       " 91,\n",
       " 92,\n",
       " 93,\n",
       " 94,\n",
       " 95,\n",
       " 96,\n",
       " 97,\n",
       " 98,\n",
       " 99,\n",
       " 100,\n",
       " 101,\n",
       " 102,\n",
       " 103,\n",
       " 104,\n",
       " 105,\n",
       " 106,\n",
       " 107,\n",
       " 108,\n",
       " 109,\n",
       " 110,\n",
       " 111,\n",
       " 112,\n",
       " 113,\n",
       " 114,\n",
       " 115,\n",
       " 116,\n",
       " 117,\n",
       " 118,\n",
       " 119,\n",
       " 120,\n",
       " 121,\n",
       " 122,\n",
       " 123,\n",
       " 124,\n",
       " 125,\n",
       " 126,\n",
       " 127,\n",
       " 128,\n",
       " 129,\n",
       " 130,\n",
       " 131,\n",
       " 132,\n",
       " 133,\n",
       " 134,\n",
       " 135,\n",
       " 136,\n",
       " 137,\n",
       " 138,\n",
       " 139,\n",
       " 140,\n",
       " 141,\n",
       " 142,\n",
       " 143,\n",
       " 144,\n",
       " 145,\n",
       " 146,\n",
       " 147,\n",
       " 148,\n",
       " 149,\n",
       " 150,\n",
       " 151,\n",
       " 152,\n",
       " 153,\n",
       " 154,\n",
       " 155,\n",
       " 156,\n",
       " 157,\n",
       " 158,\n",
       " 159,\n",
       " 160,\n",
       " 161,\n",
       " 162,\n",
       " 163,\n",
       " 164,\n",
       " 165,\n",
       " 166,\n",
       " 167,\n",
       " 168,\n",
       " 169,\n",
       " 170,\n",
       " 171,\n",
       " 172,\n",
       " 173,\n",
       " 174,\n",
       " 175,\n",
       " 176,\n",
       " 177,\n",
       " 178,\n",
       " 179,\n",
       " 180,\n",
       " 181,\n",
       " 182,\n",
       " 183,\n",
       " 184,\n",
       " 185,\n",
       " 186,\n",
       " 187,\n",
       " 188,\n",
       " 189,\n",
       " 190,\n",
       " 191,\n",
       " 192,\n",
       " 193,\n",
       " 194,\n",
       " 195,\n",
       " 196,\n",
       " 197,\n",
       " 198,\n",
       " 199,\n",
       " 200]"
      ]
     },
     "execution_count": 3,
     "metadata": {},
     "output_type": "execute_result"
    }
   ],
   "source": [
    "list2 = [(x+1) for x in range(1,200)]\n",
    "list2"
   ]
  },
  {
   "cell_type": "markdown",
   "metadata": {},
   "source": [
    "### 3. Use a list comprehension to create and print a list containing all elements of the 10 x 4 Numpy array below."
   ]
  },
  {
   "cell_type": "code",
   "execution_count": 4,
   "metadata": {},
   "outputs": [],
   "source": [
    "a = np.array([[0.84062117, 0.48006452, 0.7876326 , 0.77109654],\n",
    "       [0.44409793, 0.09014516, 0.81835917, 0.87645456],\n",
    "       [0.7066597 , 0.09610873, 0.41247947, 0.57433389],\n",
    "       [0.29960807, 0.42315023, 0.34452557, 0.4751035 ],\n",
    "       [0.17003563, 0.46843998, 0.92796258, 0.69814654],\n",
    "       [0.41290051, 0.19561071, 0.16284783, 0.97016248],\n",
    "       [0.71725408, 0.87702738, 0.31244595, 0.76615487],\n",
    "       [0.20754036, 0.57871812, 0.07214068, 0.40356048],\n",
    "       [0.12149553, 0.53222417, 0.9976855 , 0.12536346],\n",
    "       [0.80930099, 0.50962849, 0.94555126, 0.33364763]])"
   ]
  },
  {
   "cell_type": "code",
   "execution_count": 5,
   "metadata": {},
   "outputs": [
    {
     "data": {
      "text/plain": [
       "[0.84062117,\n",
       " 0.48006452,\n",
       " 0.7876326,\n",
       " 0.77109654,\n",
       " 0.44409793,\n",
       " 0.09014516,\n",
       " 0.81835917,\n",
       " 0.87645456,\n",
       " 0.7066597,\n",
       " 0.09610873,\n",
       " 0.41247947,\n",
       " 0.57433389,\n",
       " 0.29960807,\n",
       " 0.42315023,\n",
       " 0.34452557,\n",
       " 0.4751035,\n",
       " 0.17003563,\n",
       " 0.46843998,\n",
       " 0.92796258,\n",
       " 0.69814654,\n",
       " 0.41290051,\n",
       " 0.19561071,\n",
       " 0.16284783,\n",
       " 0.97016248,\n",
       " 0.71725408,\n",
       " 0.87702738,\n",
       " 0.31244595,\n",
       " 0.76615487,\n",
       " 0.20754036,\n",
       " 0.57871812,\n",
       " 0.07214068,\n",
       " 0.40356048,\n",
       " 0.12149553,\n",
       " 0.53222417,\n",
       " 0.9976855,\n",
       " 0.12536346,\n",
       " 0.80930099,\n",
       " 0.50962849,\n",
       " 0.94555126,\n",
       " 0.33364763]"
      ]
     },
     "execution_count": 5,
     "metadata": {},
     "output_type": "execute_result"
    }
   ],
   "source": [
    "a = np.array([[0.84062117, 0.48006452, 0.7876326 , 0.77109654],\n",
    "       [0.44409793, 0.09014516, 0.81835917, 0.87645456],\n",
    "       [0.7066597 , 0.09610873, 0.41247947, 0.57433389],\n",
    "       [0.29960807, 0.42315023, 0.34452557, 0.4751035 ],\n",
    "       [0.17003563, 0.46843998, 0.92796258, 0.69814654],\n",
    "       [0.41290051, 0.19561071, 0.16284783, 0.97016248],\n",
    "       [0.71725408, 0.87702738, 0.31244595, 0.76615487],\n",
    "       [0.20754036, 0.57871812, 0.07214068, 0.40356048],\n",
    "       [0.12149553, 0.53222417, 0.9976855 , 0.12536346],\n",
    "       [0.80930099, 0.50962849, 0.94555126, 0.33364763]])\n",
    "\n",
    "list3 = [x for i in a for x in i]\n",
    "list3"
   ]
  },
  {
   "cell_type": "markdown",
   "metadata": {},
   "source": [
    "### 4. Add a condition to the list comprehension above so that only values greater than or equal to 0.5 are printed."
   ]
  },
  {
   "cell_type": "code",
   "execution_count": 12,
   "metadata": {},
   "outputs": [
    {
     "data": {
      "text/plain": [
       "[0.84062117,\n",
       " 0.7876326,\n",
       " 0.77109654,\n",
       " 0.81835917,\n",
       " 0.87645456,\n",
       " 0.7066597,\n",
       " 0.57433389,\n",
       " 0.92796258,\n",
       " 0.69814654,\n",
       " 0.97016248,\n",
       " 0.71725408,\n",
       " 0.87702738,\n",
       " 0.76615487,\n",
       " 0.57871812,\n",
       " 0.53222417,\n",
       " 0.9976855,\n",
       " 0.80930099,\n",
       " 0.50962849,\n",
       " 0.94555126]"
      ]
     },
     "execution_count": 12,
     "metadata": {},
     "output_type": "execute_result"
    }
   ],
   "source": [
    "list4 = [x for i in a for x in i if x>=0.5]\n",
    "list4"
   ]
  },
  {
   "cell_type": "markdown",
   "metadata": {},
   "source": [
    "### 5. Use a list comprehension to create and print a list containing all elements of the 5 x 2 x 3 Numpy array below."
   ]
  },
  {
   "cell_type": "code",
   "execution_count": 7,
   "metadata": {},
   "outputs": [],
   "source": [
    "b = np.array([[[0.55867166, 0.06210792, 0.08147297],\n",
    "        [0.82579068, 0.91512478, 0.06833034]],\n",
    "\n",
    "       [[0.05440634, 0.65857693, 0.30296619],\n",
    "        [0.06769833, 0.96031863, 0.51293743]],\n",
    "\n",
    "       [[0.09143215, 0.71893382, 0.45850679],\n",
    "        [0.58256464, 0.59005654, 0.56266457]],\n",
    "\n",
    "       [[0.71600294, 0.87392666, 0.11434044],\n",
    "        [0.8694668 , 0.65669313, 0.10708681]],\n",
    "\n",
    "       [[0.07529684, 0.46470767, 0.47984544],\n",
    "        [0.65368638, 0.14901286, 0.23760688]]])"
   ]
  },
  {
   "cell_type": "code",
   "execution_count": 8,
   "metadata": {},
   "outputs": [
    {
     "data": {
      "text/plain": [
       "[0.55867166,\n",
       " 0.06210792,\n",
       " 0.08147297,\n",
       " 0.82579068,\n",
       " 0.91512478,\n",
       " 0.06833034,\n",
       " 0.05440634,\n",
       " 0.65857693,\n",
       " 0.30296619,\n",
       " 0.06769833,\n",
       " 0.96031863,\n",
       " 0.51293743,\n",
       " 0.09143215,\n",
       " 0.71893382,\n",
       " 0.45850679,\n",
       " 0.58256464,\n",
       " 0.59005654,\n",
       " 0.56266457,\n",
       " 0.71600294,\n",
       " 0.87392666,\n",
       " 0.11434044,\n",
       " 0.8694668,\n",
       " 0.65669313,\n",
       " 0.10708681,\n",
       " 0.07529684,\n",
       " 0.46470767,\n",
       " 0.47984544,\n",
       " 0.65368638,\n",
       " 0.14901286,\n",
       " 0.23760688]"
      ]
     },
     "execution_count": 8,
     "metadata": {},
     "output_type": "execute_result"
    }
   ],
   "source": [
    "b = np.array([[[0.55867166, 0.06210792, 0.08147297],\n",
    "        [0.82579068, 0.91512478, 0.06833034]],\n",
    "\n",
    "       [[0.05440634, 0.65857693, 0.30296619],\n",
    "        [0.06769833, 0.96031863, 0.51293743]],\n",
    "\n",
    "       [[0.09143215, 0.71893382, 0.45850679],\n",
    "        [0.58256464, 0.59005654, 0.56266457]],\n",
    "\n",
    "       [[0.71600294, 0.87392666, 0.11434044],\n",
    "        [0.8694668 , 0.65669313, 0.10708681]],\n",
    "\n",
    "       [[0.07529684, 0.46470767, 0.47984544],\n",
    "        [0.65368638, 0.14901286, 0.23760688]]])\n",
    "list5a = [c for x in b for y in x for c in y]\n",
    "list5a"
   ]
  },
  {
   "cell_type": "markdown",
   "metadata": {},
   "source": [
    "### 5. Add a condition to the list comprehension above so that the last value in each subarray is printed, but only if it is less than or equal to 0.5."
   ]
  },
  {
   "cell_type": "code",
   "execution_count": 11,
   "metadata": {},
   "outputs": [
    {
     "data": {
      "text/plain": [
       "[0.08147297,\n",
       " 0.06833034,\n",
       " 0.30296619,\n",
       " 0.45850679,\n",
       " 0.11434044,\n",
       " 0.10708681,\n",
       " 0.47984544,\n",
       " 0.23760688]"
      ]
     },
     "execution_count": 11,
     "metadata": {},
     "output_type": "execute_result"
    }
   ],
   "source": [
    "list5b = [item [2] for subarray in b for item in subarray if item[2] <= 0.5]\n",
    "list5b"
   ]
  },
  {
   "cell_type": "markdown",
   "metadata": {},
   "source": [
    "### 6. Use a list comprehension to select and print the names of all CSV files in the */data* directory."
   ]
  },
  {
   "cell_type": "code",
   "execution_count": 18,
   "metadata": {},
   "outputs": [
    {
     "data": {
      "text/plain": [
       "['sample_file_2',\n",
       " 'sample_file_3',\n",
       " 'sample_file_6',\n",
       " 'sample_file_9',\n",
       " 'sample_file_8',\n",
       " 'sample_file_4',\n",
       " 'sample_file_7',\n",
       " 'sample_file_0',\n",
       " 'sample_file_5',\n",
       " 'sample_file_1']"
      ]
     },
     "execution_count": 18,
     "metadata": {},
     "output_type": "execute_result"
    }
   ],
   "source": [
    "import os\n",
    "\n",
    "#files = os.listdir('../data')\n",
    "\n",
    "files_csv = [x for x in os.listdir('../data') if x[-3:-1] == 'cs']\n",
    "\n",
    "files_csv"
   ]
  },
  {
   "cell_type": "code",
   "execution_count": 12,
   "metadata": {
    "scrolled": true
   },
   "outputs": [
    {
     "data": {
      "text/plain": [
       "['sample_file_2.csv',\n",
       " 'sample_file_3.csv',\n",
       " 'sample_file_6.csv',\n",
       " 'sample_file_9.csv',\n",
       " 'sample_file_8.csv',\n",
       " 'sample_file_4.csv',\n",
       " 'sample_file_7.csv',\n",
       " 'sample_file_0.csv',\n",
       " 'sample_file_5.csv',\n",
       " 'sample_file_1.csv']"
      ]
     },
     "execution_count": 12,
     "metadata": {},
     "output_type": "execute_result"
    }
   ],
   "source": [
    "files = os.listdir('../data')\n",
    "files_csv = []\n",
    "for x in files:\n",
    "    if x[-3:-1] == 'cs':\n",
    "        files_csv.append(x)\n",
    "        \n",
    "files_csv"
   ]
  },
  {
   "cell_type": "code",
   "execution_count": 17,
   "metadata": {},
   "outputs": [
    {
     "data": {
      "text/plain": [
       "[['sample_file_2.csv',\n",
       "  'sample_file_8.txt',\n",
       "  'sample_file_6.txt',\n",
       "  'sample_file_2.txt',\n",
       "  'sample_file_9.txt',\n",
       "  'sample_file_3.csv',\n",
       "  'sample_file_4.txt',\n",
       "  'sample_file_6.csv',\n",
       "  'sample_file_0.txt',\n",
       "  'sample_file_3.txt',\n",
       "  'sample_file_9.csv',\n",
       "  'sample_file_8.csv',\n",
       "  'sample_file_1.txt',\n",
       "  'sample_file_4.csv',\n",
       "  'sample_file_7.csv',\n",
       "  'sample_file_0.csv',\n",
       "  'sample_file_5.csv',\n",
       "  'sample_file_1.csv',\n",
       "  'sample_file_7.txt',\n",
       "  'sample_file_5.txt'],\n",
       " ['sample_file_2.csv',\n",
       "  'sample_file_8.txt',\n",
       "  'sample_file_6.txt',\n",
       "  'sample_file_2.txt',\n",
       "  'sample_file_9.txt',\n",
       "  'sample_file_3.csv',\n",
       "  'sample_file_4.txt',\n",
       "  'sample_file_6.csv',\n",
       "  'sample_file_0.txt',\n",
       "  'sample_file_3.txt',\n",
       "  'sample_file_9.csv',\n",
       "  'sample_file_8.csv',\n",
       "  'sample_file_1.txt',\n",
       "  'sample_file_4.csv',\n",
       "  'sample_file_7.csv',\n",
       "  'sample_file_0.csv',\n",
       "  'sample_file_5.csv',\n",
       "  'sample_file_1.csv',\n",
       "  'sample_file_7.txt',\n",
       "  'sample_file_5.txt'],\n",
       " ['sample_file_2.csv',\n",
       "  'sample_file_8.txt',\n",
       "  'sample_file_6.txt',\n",
       "  'sample_file_2.txt',\n",
       "  'sample_file_9.txt',\n",
       "  'sample_file_3.csv',\n",
       "  'sample_file_4.txt',\n",
       "  'sample_file_6.csv',\n",
       "  'sample_file_0.txt',\n",
       "  'sample_file_3.txt',\n",
       "  'sample_file_9.csv',\n",
       "  'sample_file_8.csv',\n",
       "  'sample_file_1.txt',\n",
       "  'sample_file_4.csv',\n",
       "  'sample_file_7.csv',\n",
       "  'sample_file_0.csv',\n",
       "  'sample_file_5.csv',\n",
       "  'sample_file_1.csv',\n",
       "  'sample_file_7.txt',\n",
       "  'sample_file_5.txt'],\n",
       " ['sample_file_2.csv',\n",
       "  'sample_file_8.txt',\n",
       "  'sample_file_6.txt',\n",
       "  'sample_file_2.txt',\n",
       "  'sample_file_9.txt',\n",
       "  'sample_file_3.csv',\n",
       "  'sample_file_4.txt',\n",
       "  'sample_file_6.csv',\n",
       "  'sample_file_0.txt',\n",
       "  'sample_file_3.txt',\n",
       "  'sample_file_9.csv',\n",
       "  'sample_file_8.csv',\n",
       "  'sample_file_1.txt',\n",
       "  'sample_file_4.csv',\n",
       "  'sample_file_7.csv',\n",
       "  'sample_file_0.csv',\n",
       "  'sample_file_5.csv',\n",
       "  'sample_file_1.csv',\n",
       "  'sample_file_7.txt',\n",
       "  'sample_file_5.txt'],\n",
       " ['sample_file_2.csv',\n",
       "  'sample_file_8.txt',\n",
       "  'sample_file_6.txt',\n",
       "  'sample_file_2.txt',\n",
       "  'sample_file_9.txt',\n",
       "  'sample_file_3.csv',\n",
       "  'sample_file_4.txt',\n",
       "  'sample_file_6.csv',\n",
       "  'sample_file_0.txt',\n",
       "  'sample_file_3.txt',\n",
       "  'sample_file_9.csv',\n",
       "  'sample_file_8.csv',\n",
       "  'sample_file_1.txt',\n",
       "  'sample_file_4.csv',\n",
       "  'sample_file_7.csv',\n",
       "  'sample_file_0.csv',\n",
       "  'sample_file_5.csv',\n",
       "  'sample_file_1.csv',\n",
       "  'sample_file_7.txt',\n",
       "  'sample_file_5.txt']]"
      ]
     },
     "metadata": {},
     "output_type": "display_data"
    },
    {
     "data": {
      "text/plain": [
       "['sample_file_2.csv',\n",
       " 'sample_file_2.csv',\n",
       " 'sample_file_2.csv',\n",
       " 'sample_file_2.csv',\n",
       " 'sample_file_2.csv',\n",
       " 'sample_file_3.csv',\n",
       " 'sample_file_3.csv',\n",
       " 'sample_file_3.csv',\n",
       " 'sample_file_3.csv',\n",
       " 'sample_file_3.csv',\n",
       " 'sample_file_6.csv',\n",
       " 'sample_file_6.csv',\n",
       " 'sample_file_6.csv',\n",
       " 'sample_file_6.csv',\n",
       " 'sample_file_6.csv',\n",
       " 'sample_file_9.csv',\n",
       " 'sample_file_9.csv',\n",
       " 'sample_file_9.csv',\n",
       " 'sample_file_9.csv',\n",
       " 'sample_file_9.csv',\n",
       " 'sample_file_8.csv',\n",
       " 'sample_file_8.csv',\n",
       " 'sample_file_8.csv',\n",
       " 'sample_file_8.csv',\n",
       " 'sample_file_8.csv',\n",
       " 'sample_file_4.csv',\n",
       " 'sample_file_4.csv',\n",
       " 'sample_file_4.csv',\n",
       " 'sample_file_4.csv',\n",
       " 'sample_file_4.csv',\n",
       " 'sample_file_7.csv',\n",
       " 'sample_file_7.csv',\n",
       " 'sample_file_7.csv',\n",
       " 'sample_file_7.csv',\n",
       " 'sample_file_7.csv',\n",
       " 'sample_file_0.csv',\n",
       " 'sample_file_0.csv',\n",
       " 'sample_file_0.csv',\n",
       " 'sample_file_0.csv',\n",
       " 'sample_file_0.csv',\n",
       " 'sample_file_5.csv',\n",
       " 'sample_file_5.csv',\n",
       " 'sample_file_5.csv',\n",
       " 'sample_file_5.csv',\n",
       " 'sample_file_5.csv',\n",
       " 'sample_file_1.csv',\n",
       " 'sample_file_1.csv',\n",
       " 'sample_file_1.csv',\n",
       " 'sample_file_1.csv',\n",
       " 'sample_file_1.csv']"
      ]
     },
     "metadata": {},
     "output_type": "display_data"
    },
    {
     "data": {
      "text/plain": [
       "5"
      ]
     },
     "metadata": {},
     "output_type": "display_data"
    },
    {
     "data": {
      "text/plain": [
       "50"
      ]
     },
     "metadata": {},
     "output_type": "display_data"
    }
   ],
   "source": [
    "#EJEMPLO DE OCTAVIO\n",
    "\n",
    "list_of_lists = []\n",
    "\n",
    "for i in range(5):\n",
    "    list_of_lists.append(os.listdir('../data'))\n",
    "    \n",
    "new_list_of_lists = [x for x in os.listdir('../data') for y in list_of_lists if x[-3:-1] == 'cs']\n",
    "\n",
    "display(list_of_lists,new_list_of_lists,len(list_of_lists),len(new_list_of_lists))"
   ]
  },
  {
   "cell_type": "code",
   "execution_count": 31,
   "metadata": {
    "scrolled": true
   },
   "outputs": [
    {
     "data": {
      "text/plain": [
       "[['sample_file_2.csv',\n",
       "  'sample_file_8.txt',\n",
       "  'sample_file_6.txt',\n",
       "  'sample_file_2.txt',\n",
       "  'sample_file_9.txt',\n",
       "  'sample_file_3.csv',\n",
       "  'sample_file_4.txt',\n",
       "  'sample_file_6.csv',\n",
       "  'sample_file_0.txt',\n",
       "  'sample_file_3.txt',\n",
       "  'sample_file_9.csv',\n",
       "  'sample_file_8.csv',\n",
       "  'sample_file_1.txt',\n",
       "  'sample_file_4.csv',\n",
       "  'sample_file_7.csv',\n",
       "  'sample_file_0.csv',\n",
       "  'sample_file_5.csv',\n",
       "  'sample_file_1.csv',\n",
       "  'sample_file_7.txt',\n",
       "  'sample_file_5.txt'],\n",
       " ['sample_file_2.csv',\n",
       "  'sample_file_8.txt',\n",
       "  'sample_file_6.txt',\n",
       "  'sample_file_2.txt',\n",
       "  'sample_file_9.txt',\n",
       "  'sample_file_3.csv',\n",
       "  'sample_file_4.txt',\n",
       "  'sample_file_6.csv',\n",
       "  'sample_file_0.txt',\n",
       "  'sample_file_3.txt',\n",
       "  'sample_file_9.csv',\n",
       "  'sample_file_8.csv',\n",
       "  'sample_file_1.txt',\n",
       "  'sample_file_4.csv',\n",
       "  'sample_file_7.csv',\n",
       "  'sample_file_0.csv',\n",
       "  'sample_file_5.csv',\n",
       "  'sample_file_1.csv',\n",
       "  'sample_file_7.txt',\n",
       "  'sample_file_5.txt'],\n",
       " ['sample_file_2.csv',\n",
       "  'sample_file_8.txt',\n",
       "  'sample_file_6.txt',\n",
       "  'sample_file_2.txt',\n",
       "  'sample_file_9.txt',\n",
       "  'sample_file_3.csv',\n",
       "  'sample_file_4.txt',\n",
       "  'sample_file_6.csv',\n",
       "  'sample_file_0.txt',\n",
       "  'sample_file_3.txt',\n",
       "  'sample_file_9.csv',\n",
       "  'sample_file_8.csv',\n",
       "  'sample_file_1.txt',\n",
       "  'sample_file_4.csv',\n",
       "  'sample_file_7.csv',\n",
       "  'sample_file_0.csv',\n",
       "  'sample_file_5.csv',\n",
       "  'sample_file_1.csv',\n",
       "  'sample_file_7.txt',\n",
       "  'sample_file_5.txt'],\n",
       " ['sample_file_2.csv',\n",
       "  'sample_file_8.txt',\n",
       "  'sample_file_6.txt',\n",
       "  'sample_file_2.txt',\n",
       "  'sample_file_9.txt',\n",
       "  'sample_file_3.csv',\n",
       "  'sample_file_4.txt',\n",
       "  'sample_file_6.csv',\n",
       "  'sample_file_0.txt',\n",
       "  'sample_file_3.txt',\n",
       "  'sample_file_9.csv',\n",
       "  'sample_file_8.csv',\n",
       "  'sample_file_1.txt',\n",
       "  'sample_file_4.csv',\n",
       "  'sample_file_7.csv',\n",
       "  'sample_file_0.csv',\n",
       "  'sample_file_5.csv',\n",
       "  'sample_file_1.csv',\n",
       "  'sample_file_7.txt',\n",
       "  'sample_file_5.txt'],\n",
       " ['sample_file_2.csv',\n",
       "  'sample_file_8.txt',\n",
       "  'sample_file_6.txt',\n",
       "  'sample_file_2.txt',\n",
       "  'sample_file_9.txt',\n",
       "  'sample_file_3.csv',\n",
       "  'sample_file_4.txt',\n",
       "  'sample_file_6.csv',\n",
       "  'sample_file_0.txt',\n",
       "  'sample_file_3.txt',\n",
       "  'sample_file_9.csv',\n",
       "  'sample_file_8.csv',\n",
       "  'sample_file_1.txt',\n",
       "  'sample_file_4.csv',\n",
       "  'sample_file_7.csv',\n",
       "  'sample_file_0.csv',\n",
       "  'sample_file_5.csv',\n",
       "  'sample_file_1.csv',\n",
       "  'sample_file_7.txt',\n",
       "  'sample_file_5.txt']]"
      ]
     },
     "metadata": {},
     "output_type": "display_data"
    },
    {
     "data": {
      "text/plain": [
       "['sample_file_2.csv',\n",
       " 'sample_file_2.csv',\n",
       " 'sample_file_2.csv',\n",
       " 'sample_file_2.csv',\n",
       " 'sample_file_2.csv',\n",
       " 'sample_file_3.csv',\n",
       " 'sample_file_3.csv',\n",
       " 'sample_file_3.csv',\n",
       " 'sample_file_3.csv',\n",
       " 'sample_file_3.csv',\n",
       " 'sample_file_6.csv',\n",
       " 'sample_file_6.csv',\n",
       " 'sample_file_6.csv',\n",
       " 'sample_file_6.csv',\n",
       " 'sample_file_6.csv',\n",
       " 'sample_file_9.csv',\n",
       " 'sample_file_9.csv',\n",
       " 'sample_file_9.csv',\n",
       " 'sample_file_9.csv',\n",
       " 'sample_file_9.csv',\n",
       " 'sample_file_8.csv',\n",
       " 'sample_file_8.csv',\n",
       " 'sample_file_8.csv',\n",
       " 'sample_file_8.csv',\n",
       " 'sample_file_8.csv',\n",
       " 'sample_file_4.csv',\n",
       " 'sample_file_4.csv',\n",
       " 'sample_file_4.csv',\n",
       " 'sample_file_4.csv',\n",
       " 'sample_file_4.csv',\n",
       " 'sample_file_7.csv',\n",
       " 'sample_file_7.csv',\n",
       " 'sample_file_7.csv',\n",
       " 'sample_file_7.csv',\n",
       " 'sample_file_7.csv',\n",
       " 'sample_file_0.csv',\n",
       " 'sample_file_0.csv',\n",
       " 'sample_file_0.csv',\n",
       " 'sample_file_0.csv',\n",
       " 'sample_file_0.csv',\n",
       " 'sample_file_5.csv',\n",
       " 'sample_file_5.csv',\n",
       " 'sample_file_5.csv',\n",
       " 'sample_file_5.csv',\n",
       " 'sample_file_5.csv',\n",
       " 'sample_file_1.csv',\n",
       " 'sample_file_1.csv',\n",
       " 'sample_file_1.csv',\n",
       " 'sample_file_1.csv',\n",
       " 'sample_file_1.csv']"
      ]
     },
     "metadata": {},
     "output_type": "display_data"
    },
    {
     "data": {
      "text/plain": [
       "5"
      ]
     },
     "metadata": {},
     "output_type": "display_data"
    },
    {
     "data": {
      "text/plain": [
       "50"
      ]
     },
     "metadata": {},
     "output_type": "display_data"
    }
   ],
   "source": [
    "#EJERCICIO PARA LUANA DE OCTAVIO\n",
    "\n",
    "list_of_lists = []\n",
    "\n",
    "for i in range(5):\n",
    "    list_of_lists.append(os.listdir('../data'))\n",
    "    \n",
    "new_list_of_lists = []\n",
    "for x in os.listdir('../data'):\n",
    "    for y in list_of_lists:\n",
    "        if x[-3:-1] == 'cs':\n",
    "            new_list_of_lists.append(x)\n",
    "\n",
    "display(list_of_lists,new_list_of_lists,len(list_of_lists),len(new_list_of_lists))"
   ]
  },
  {
   "cell_type": "code",
   "execution_count": 28,
   "metadata": {},
   "outputs": [
    {
     "data": {
      "text/plain": [
       "['csv', 'csv', 'csv', 'csv', 'csv', 'csv', 'csv', 'csv', 'csv', 'csv']"
      ]
     },
     "execution_count": 28,
     "metadata": {},
     "output_type": "execute_result"
    }
   ],
   "source": [
    "#EJEMPLO 2 CON OCTAVIO\n",
    "import re\n",
    "\n",
    "files_csv = [re.findall('\\w+',x)[1] for x in os.listdir('../data') if x[-3:-1] == 'cs']\n",
    "\n",
    "files_csv"
   ]
  },
  {
   "cell_type": "code",
   "execution_count": 32,
   "metadata": {},
   "outputs": [
    {
     "data": {
      "text/plain": [
       "['csv', 'csv', 'csv', 'csv', 'csv', 'csv', 'csv', 'csv', 'csv', 'csv']"
      ]
     },
     "execution_count": 32,
     "metadata": {},
     "output_type": "execute_result"
    }
   ],
   "source": [
    "#EJEMPLO 3 CON OCTAVIO\n",
    "files_csv = [x.split('.')[1] for x in os.listdir('../data') if x[-3:-1] == 'cs']\n",
    "\n",
    "files_csv"
   ]
  },
  {
   "cell_type": "markdown",
   "metadata": {},
   "source": [
    "### 7. Use a list comprehension and the Pandas `read_csv` and `concat` methods to read all CSV files in the */data* directory and combine them into a single data frame. Display the top 10 rows of the resulting data frame."
   ]
  },
  {
   "cell_type": "code",
   "execution_count": 38,
   "metadata": {},
   "outputs": [
    {
     "name": "stdout",
     "output_type": "stream",
     "text": [
      "          0         1         2         3         4         5         6  \\\n",
      "0  0.948664  0.215285  0.918270  0.599951  0.755120  0.971609  0.103190   \n",
      "1  0.163236  0.803926  0.916655  0.775234  0.644890  0.701362  0.910208   \n",
      "2  0.934136  0.031410  0.954057  0.853387  0.642160  0.681184  0.317198   \n",
      "3  0.757038  0.918964  0.475459  0.837686  0.149645  0.819032  0.611996   \n",
      "4  0.263455  0.816283  0.336707  0.587997  0.285871  0.619942  0.018027   \n",
      "0  0.376101  0.896590  0.500995  0.381416  0.447730  0.048472  0.094235   \n",
      "1  0.498192  0.565500  0.152394  0.284232  0.557042  0.417095  0.663465   \n",
      "2  0.635284  0.247512  0.179986  0.468231  0.911799  0.764209  0.941413   \n",
      "3  0.647497  0.072412  0.681403  0.977189  0.690953  0.829347  0.236915   \n",
      "4  0.170792  0.586900  0.029834  0.921923  0.090727  0.592746  0.972429   \n",
      "\n",
      "          7         8         9        10        11        12        13  \\\n",
      "0  0.194754  0.932388  0.591727  0.697517  0.607355  0.177649  0.435968   \n",
      "1  0.871204  0.321745  0.586035  0.887054  0.240060  0.915342  0.205310   \n",
      "2  0.875259  0.538416  0.867511  0.813309  0.215624  0.552062  0.498378   \n",
      "3  0.644348  0.938444  0.410444  0.561513  0.499231  0.856437  0.054619   \n",
      "4  0.548845  0.121471  0.194299  0.149844  0.848866  0.531840  0.663384   \n",
      "0  0.986890  0.582352  0.037230  0.130306  0.766153  0.153783  0.199140   \n",
      "1  0.158188  0.039182  0.543442  0.521210  0.993481  0.580359  0.765757   \n",
      "2  0.808370  0.578024  0.181267  0.064788  0.924226  0.070744  0.704575   \n",
      "3  0.406938  0.898234  0.513575  0.532473  0.790312  0.082292  0.850821   \n",
      "4  0.774760  0.293800  0.956949  0.811740  0.525562  0.454788  0.848812   \n",
      "\n",
      "         14        15        16        17        18        19  \n",
      "0  0.202404  0.979777  0.095713  0.159040  0.651457  0.803393  \n",
      "1  0.489504  0.848926  0.304342  0.358977  0.841539  0.964889  \n",
      "2  0.739656  0.307914  0.233996  0.602166  0.244210  0.313071  \n",
      "3  0.326310  0.461825  0.954783  0.361873  0.145952  0.873029  \n",
      "4  0.084884  0.120312  0.463214  0.437889  0.542376  0.668447  \n",
      "0  0.330318  0.969657  0.110998  0.033474  0.117277  0.213938  \n",
      "1  0.931264  0.336841  0.271230  0.509798  0.877048  0.310951  \n",
      "2  0.948127  0.971452  0.360861  0.074394  0.386949  0.396453  \n",
      "3  0.088025  0.289218  0.822775  0.515933  0.962827  0.026952  \n",
      "4  0.095214  0.415311  0.026496  0.513342  0.830389  0.931145  \n"
     ]
    }
   ],
   "source": [
    "import os\n",
    "import pandas as pd\n",
    "\n",
    "concat = pd.concat([pd.read_csv('../data/' + file) for file in os.listdir('../data/') if file[-4:] == '.csv'])\n",
    "print(concat.head(10))\n",
    "\n"
   ]
  },
  {
   "cell_type": "markdown",
   "metadata": {},
   "source": [
    "### 8. Use a list comprehension to select and print the column numbers for columns from the data set whose median is less than 0.48."
   ]
  },
  {
   "cell_type": "code",
   "execution_count": 40,
   "metadata": {},
   "outputs": [
    {
     "name": "stdout",
     "output_type": "stream",
     "text": [
      "['2', '9', '12', '14', '17']\n"
     ]
    }
   ],
   "source": [
    "column = [a for a in concat.columns if concat[a].median() < 0.48]\n",
    "print(column)\n",
    "\n"
   ]
  },
  {
   "cell_type": "markdown",
   "metadata": {},
   "source": [
    "### 9. Use a list comprehension to add a new column (20) to the data frame whose values are the values in column 19 minus 0.1. Display the top 10 rows of the resulting data frame.7"
   ]
  },
  {
   "cell_type": "code",
   "execution_count": 41,
   "metadata": {
    "scrolled": true
   },
   "outputs": [
    {
     "name": "stdout",
     "output_type": "stream",
     "text": [
      "          0         1         2         3         4         5         6  \\\n",
      "0  0.948664  0.215285  0.918270  0.599951  0.755120  0.971609  0.103190   \n",
      "1  0.163236  0.803926  0.916655  0.775234  0.644890  0.701362  0.910208   \n",
      "2  0.934136  0.031410  0.954057  0.853387  0.642160  0.681184  0.317198   \n",
      "3  0.757038  0.918964  0.475459  0.837686  0.149645  0.819032  0.611996   \n",
      "4  0.263455  0.816283  0.336707  0.587997  0.285871  0.619942  0.018027   \n",
      "0  0.376101  0.896590  0.500995  0.381416  0.447730  0.048472  0.094235   \n",
      "1  0.498192  0.565500  0.152394  0.284232  0.557042  0.417095  0.663465   \n",
      "2  0.635284  0.247512  0.179986  0.468231  0.911799  0.764209  0.941413   \n",
      "3  0.647497  0.072412  0.681403  0.977189  0.690953  0.829347  0.236915   \n",
      "4  0.170792  0.586900  0.029834  0.921923  0.090727  0.592746  0.972429   \n",
      "\n",
      "          7         8         9  ...        11        12        13        14  \\\n",
      "0  0.194754  0.932388  0.591727  ...  0.607355  0.177649  0.435968  0.202404   \n",
      "1  0.871204  0.321745  0.586035  ...  0.240060  0.915342  0.205310  0.489504   \n",
      "2  0.875259  0.538416  0.867511  ...  0.215624  0.552062  0.498378  0.739656   \n",
      "3  0.644348  0.938444  0.410444  ...  0.499231  0.856437  0.054619  0.326310   \n",
      "4  0.548845  0.121471  0.194299  ...  0.848866  0.531840  0.663384  0.084884   \n",
      "0  0.986890  0.582352  0.037230  ...  0.766153  0.153783  0.199140  0.330318   \n",
      "1  0.158188  0.039182  0.543442  ...  0.993481  0.580359  0.765757  0.931264   \n",
      "2  0.808370  0.578024  0.181267  ...  0.924226  0.070744  0.704575  0.948127   \n",
      "3  0.406938  0.898234  0.513575  ...  0.790312  0.082292  0.850821  0.088025   \n",
      "4  0.774760  0.293800  0.956949  ...  0.525562  0.454788  0.848812  0.095214   \n",
      "\n",
      "         15        16        17        18        19        20  \n",
      "0  0.979777  0.095713  0.159040  0.651457  0.803393  0.703393  \n",
      "1  0.848926  0.304342  0.358977  0.841539  0.964889  0.864889  \n",
      "2  0.307914  0.233996  0.602166  0.244210  0.313071  0.213071  \n",
      "3  0.461825  0.954783  0.361873  0.145952  0.873029  0.773029  \n",
      "4  0.120312  0.463214  0.437889  0.542376  0.668447  0.568447  \n",
      "0  0.969657  0.110998  0.033474  0.117277  0.213938  0.113938  \n",
      "1  0.336841  0.271230  0.509798  0.877048  0.310951  0.210951  \n",
      "2  0.971452  0.360861  0.074394  0.386949  0.396453  0.296453  \n",
      "3  0.289218  0.822775  0.515933  0.962827  0.026952 -0.073048  \n",
      "4  0.415311  0.026496  0.513342  0.830389  0.931145  0.831145  \n",
      "\n",
      "[10 rows x 21 columns]\n"
     ]
    }
   ],
   "source": [
    "concat[\"20\"] = [i - 0.1 for i in df_concat[\"19\"]]\n",
    "print(concat.head(10))"
   ]
  },
  {
   "cell_type": "markdown",
   "metadata": {},
   "source": [
    "# 10. Use a list comprehension to extract and print all values from the data set that are between 0.7 and 0.75."
   ]
  },
  {
   "cell_type": "code",
   "execution_count": 50,
   "metadata": {},
   "outputs": [
    {
     "ename": "ValueError",
     "evalue": "The truth value of a Series is ambiguous. Use a.empty, a.bool(), a.item(), a.any() or a.all().",
     "output_type": "error",
     "traceback": [
      "\u001b[0;31m---------------------------------------------------------------------------\u001b[0m",
      "\u001b[0;31mValueError\u001b[0m                                Traceback (most recent call last)",
      "\u001b[0;32m<ipython-input-50-dbdef69c44ff>\u001b[0m in \u001b[0;36m<module>\u001b[0;34m\u001b[0m\n\u001b[0;32m----> 1\u001b[0;31m \u001b[0mselection\u001b[0m \u001b[0;34m=\u001b[0m \u001b[0;34m[\u001b[0m\u001b[0mconcat\u001b[0m \u001b[0;34m[\u001b[0m\u001b[0mstr\u001b[0m\u001b[0;34m(\u001b[0m\u001b[0mj\u001b[0m\u001b[0;34m)\u001b[0m\u001b[0;34m]\u001b[0m\u001b[0;34m[\u001b[0m\u001b[0mi\u001b[0m\u001b[0;34m]\u001b[0m \u001b[0;32mfor\u001b[0m \u001b[0mi\u001b[0m \u001b[0;32min\u001b[0m \u001b[0mrange\u001b[0m \u001b[0;34m(\u001b[0m\u001b[0mlen\u001b[0m\u001b[0;34m(\u001b[0m\u001b[0mconcat\u001b[0m\u001b[0;34m)\u001b[0m\u001b[0;34m)\u001b[0m \u001b[0;32mfor\u001b[0m \u001b[0mj\u001b[0m \u001b[0;32min\u001b[0m \u001b[0mrange\u001b[0m \u001b[0;34m(\u001b[0m\u001b[0mlen\u001b[0m\u001b[0;34m(\u001b[0m\u001b[0mconcat\u001b[0m\u001b[0;34m.\u001b[0m\u001b[0mcolumns\u001b[0m\u001b[0;34m)\u001b[0m\u001b[0;34m)\u001b[0m \u001b[0;32mif\u001b[0m \u001b[0mconcat\u001b[0m \u001b[0;34m[\u001b[0m\u001b[0mstr\u001b[0m\u001b[0;34m(\u001b[0m\u001b[0mj\u001b[0m\u001b[0;34m)\u001b[0m\u001b[0;34m]\u001b[0m\u001b[0;34m[\u001b[0m\u001b[0mi\u001b[0m\u001b[0;34m]\u001b[0m \u001b[0;34m>=\u001b[0m \u001b[0;36m0.7\u001b[0m \u001b[0;32mand\u001b[0m \u001b[0mconcat\u001b[0m \u001b[0;34m[\u001b[0m\u001b[0mstr\u001b[0m\u001b[0;34m(\u001b[0m\u001b[0mj\u001b[0m\u001b[0;34m)\u001b[0m\u001b[0;34m]\u001b[0m\u001b[0;34m[\u001b[0m\u001b[0mi\u001b[0m\u001b[0;34m]\u001b[0m \u001b[0;34m<=\u001b[0m \u001b[0;36m0.75\u001b[0m\u001b[0;34m]\u001b[0m\u001b[0;34m\u001b[0m\u001b[0;34m\u001b[0m\u001b[0m\n\u001b[0m\u001b[1;32m      2\u001b[0m \u001b[0mselection\u001b[0m\u001b[0;34m\u001b[0m\u001b[0;34m\u001b[0m\u001b[0m\n\u001b[1;32m      3\u001b[0m \u001b[0;34m\u001b[0m\u001b[0m\n",
      "\u001b[0;32m<ipython-input-50-dbdef69c44ff>\u001b[0m in \u001b[0;36m<listcomp>\u001b[0;34m(.0)\u001b[0m\n\u001b[0;32m----> 1\u001b[0;31m \u001b[0mselection\u001b[0m \u001b[0;34m=\u001b[0m \u001b[0;34m[\u001b[0m\u001b[0mconcat\u001b[0m \u001b[0;34m[\u001b[0m\u001b[0mstr\u001b[0m\u001b[0;34m(\u001b[0m\u001b[0mj\u001b[0m\u001b[0;34m)\u001b[0m\u001b[0;34m]\u001b[0m\u001b[0;34m[\u001b[0m\u001b[0mi\u001b[0m\u001b[0;34m]\u001b[0m \u001b[0;32mfor\u001b[0m \u001b[0mi\u001b[0m \u001b[0;32min\u001b[0m \u001b[0mrange\u001b[0m \u001b[0;34m(\u001b[0m\u001b[0mlen\u001b[0m\u001b[0;34m(\u001b[0m\u001b[0mconcat\u001b[0m\u001b[0;34m)\u001b[0m\u001b[0;34m)\u001b[0m \u001b[0;32mfor\u001b[0m \u001b[0mj\u001b[0m \u001b[0;32min\u001b[0m \u001b[0mrange\u001b[0m \u001b[0;34m(\u001b[0m\u001b[0mlen\u001b[0m\u001b[0;34m(\u001b[0m\u001b[0mconcat\u001b[0m\u001b[0;34m.\u001b[0m\u001b[0mcolumns\u001b[0m\u001b[0;34m)\u001b[0m\u001b[0;34m)\u001b[0m \u001b[0;32mif\u001b[0m \u001b[0mconcat\u001b[0m \u001b[0;34m[\u001b[0m\u001b[0mstr\u001b[0m\u001b[0;34m(\u001b[0m\u001b[0mj\u001b[0m\u001b[0;34m)\u001b[0m\u001b[0;34m]\u001b[0m\u001b[0;34m[\u001b[0m\u001b[0mi\u001b[0m\u001b[0;34m]\u001b[0m \u001b[0;34m>=\u001b[0m \u001b[0;36m0.7\u001b[0m \u001b[0;32mand\u001b[0m \u001b[0mconcat\u001b[0m \u001b[0;34m[\u001b[0m\u001b[0mstr\u001b[0m\u001b[0;34m(\u001b[0m\u001b[0mj\u001b[0m\u001b[0;34m)\u001b[0m\u001b[0;34m]\u001b[0m\u001b[0;34m[\u001b[0m\u001b[0mi\u001b[0m\u001b[0;34m]\u001b[0m \u001b[0;34m<=\u001b[0m \u001b[0;36m0.75\u001b[0m\u001b[0;34m]\u001b[0m\u001b[0;34m\u001b[0m\u001b[0;34m\u001b[0m\u001b[0m\n\u001b[0m\u001b[1;32m      2\u001b[0m \u001b[0mselection\u001b[0m\u001b[0;34m\u001b[0m\u001b[0;34m\u001b[0m\u001b[0m\n\u001b[1;32m      3\u001b[0m \u001b[0;34m\u001b[0m\u001b[0m\n",
      "\u001b[0;32m~/miniconda3/envs/data_env/lib/python3.7/site-packages/pandas/core/generic.py\u001b[0m in \u001b[0;36m__nonzero__\u001b[0;34m(self)\u001b[0m\n\u001b[1;32m   1553\u001b[0m             \u001b[0;34m\"The truth value of a {0} is ambiguous. \"\u001b[0m\u001b[0;34m\u001b[0m\u001b[0;34m\u001b[0m\u001b[0m\n\u001b[1;32m   1554\u001b[0m             \"Use a.empty, a.bool(), a.item(), a.any() or a.all().\".format(\n\u001b[0;32m-> 1555\u001b[0;31m                 \u001b[0mself\u001b[0m\u001b[0;34m.\u001b[0m\u001b[0m__class__\u001b[0m\u001b[0;34m.\u001b[0m\u001b[0m__name__\u001b[0m\u001b[0;34m\u001b[0m\u001b[0;34m\u001b[0m\u001b[0m\n\u001b[0m\u001b[1;32m   1556\u001b[0m             )\n\u001b[1;32m   1557\u001b[0m         )\n",
      "\u001b[0;31mValueError\u001b[0m: The truth value of a Series is ambiguous. Use a.empty, a.bool(), a.item(), a.any() or a.all()."
     ]
    }
   ],
   "source": [
    "selection = [concat [str(j)][i] for i in range (len(concat)) for j in range (len(concat.columns)) if concat [str(j)][i] >= 0.7 and concat [str(j)][i] <= 0.75]\n",
    "selection\n",
    "\n"
   ]
  },
  {
   "cell_type": "code",
   "execution_count": null,
   "metadata": {},
   "outputs": [],
   "source": []
  },
  {
   "cell_type": "code",
   "execution_count": null,
   "metadata": {},
   "outputs": [],
   "source": []
  }
 ],
 "metadata": {
  "kernelspec": {
   "display_name": "Python [conda env:data_env]",
   "language": "python",
   "name": "conda-env-data_env-py"
  },
  "language_info": {
   "codemirror_mode": {
    "name": "ipython",
    "version": 3
   },
   "file_extension": ".py",
   "mimetype": "text/x-python",
   "name": "python",
   "nbconvert_exporter": "python",
   "pygments_lexer": "ipython3",
   "version": "3.7.5"
  }
 },
 "nbformat": 4,
 "nbformat_minor": 4
}
