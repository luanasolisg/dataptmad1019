{
 "cells": [
  {
   "cell_type": "code",
   "execution_count": 1,
   "metadata": {},
   "outputs": [],
   "source": [
    "#1. Import the NUMPY package under the name np.\n",
    "import numpy as np\n",
    "\n",
    "#2. Print the NUMPY version and the configuration.\n",
    "\n",
    "\n",
    "\n",
    "\n",
    "\n"
   ]
  },
  {
   "cell_type": "code",
   "execution_count": 2,
   "metadata": {},
   "outputs": [
    {
     "name": "stdout",
     "output_type": "stream",
     "text": [
      "[[[0.99376272 0.26792238 0.34635105 0.55443075 0.2184253 ]\n",
      "  [0.36216664 0.03016691 0.79672666 0.29301652 0.43479707]\n",
      "  [0.6575301  0.72322372 0.34209976 0.55826496 0.20599492]]\n",
      "\n",
      " [[0.32989821 0.64355617 0.46679742 0.23190266 0.07817957]\n",
      "  [0.58665367 0.86829743 0.62431903 0.62379305 0.13295477]\n",
      "  [0.78520883 0.28606445 0.35336161 0.88346483 0.85161226]]]\n",
      "[[[0.24279382 0.03742294 0.48880407 0.37127933 0.23617877]\n",
      "  [0.1420119  0.17204656 0.63061111 0.15399373 0.39119617]\n",
      "  [0.21094883 0.73955983 0.77475288 0.88486528 0.97303471]]\n",
      "\n",
      " [[0.11340554 0.18072959 0.96694293 0.25907483 0.35064684]\n",
      "  [0.96638575 0.0302519  0.70752938 0.97704572 0.69495098]\n",
      "  [0.57296624 0.00815449 0.88264167 0.72953926 0.04849624]]]\n",
      "(2, 3, 5)\n"
     ]
    }
   ],
   "source": [
    "#3. Generate a 2x3x5 3-dimensional array with random values. Assign the array to variable \"a\"\n",
    "# Challenge: there are at least three easy ways that use numpy to generate random arrays. How many ways can you find?\n",
    "a1 = np.random.random((2,3,5))\n",
    "import numpy.random\n",
    "from numpy.random import random as a3\n",
    "a3 = ((2,3,5))\n",
    "\n",
    "#4. Print a.\n",
    "print(a1)\n",
    "print(np.random.random((2,3,5)))\n",
    "print(a3)"
   ]
  },
  {
   "cell_type": "code",
   "execution_count": 3,
   "metadata": {},
   "outputs": [
    {
     "name": "stdout",
     "output_type": "stream",
     "text": [
      "[[[1. 1. 1.]\n",
      "  [1. 1. 1.]]\n",
      "\n",
      " [[1. 1. 1.]\n",
      "  [1. 1. 1.]]\n",
      "\n",
      " [[1. 1. 1.]\n",
      "  [1. 1. 1.]]\n",
      "\n",
      " [[1. 1. 1.]\n",
      "  [1. 1. 1.]]\n",
      "\n",
      " [[1. 1. 1.]\n",
      "  [1. 1. 1.]]]\n"
     ]
    }
   ],
   "source": [
    "#5. Create a 5x2x3 3-dimensional array with all values equaling 1.\n",
    "#Assign the array to variable \"b\"\n",
    "\n",
    "import numpy as np\n",
    "\n",
    "b = np.ones((5,2,3))\n",
    "\n",
    "#6. Print b.\n",
    "\n",
    "print(b)\n"
   ]
  },
  {
   "cell_type": "code",
   "execution_count": 4,
   "metadata": {},
   "outputs": [
    {
     "name": "stdout",
     "output_type": "stream",
     "text": [
      "True\n"
     ]
    }
   ],
   "source": [
    "#7. Do a and b have the same size? How do you prove that in Python code?\n",
    "print(a1.size == b.size)\n",
    "\n",
    "\n"
   ]
  },
  {
   "cell_type": "code",
   "execution_count": 5,
   "metadata": {},
   "outputs": [],
   "source": [
    "#8. Are you able to add a and b? Why or why not?\n",
    "#NO BECAUSE THEY DO NOT HAVE THE SAME SIZE\n"
   ]
  },
  {
   "cell_type": "code",
   "execution_count": 6,
   "metadata": {},
   "outputs": [
    {
     "name": "stdout",
     "output_type": "stream",
     "text": [
      "[[[1. 1. 1. 1. 1.]\n",
      "  [1. 1. 1. 1. 1.]\n",
      "  [1. 1. 1. 1. 1.]]\n",
      "\n",
      " [[1. 1. 1. 1. 1.]\n",
      "  [1. 1. 1. 1. 1.]\n",
      "  [1. 1. 1. 1. 1.]]]\n"
     ]
    }
   ],
   "source": [
    "#9. Transpose b so that it has the same structure of a (i.e. become a 2x3x5 array). Assign the transposed array to varialbe \"c\".\n",
    "\n",
    "c = b.transpose(1,2,0)\n",
    "print(c)\n"
   ]
  },
  {
   "cell_type": "code",
   "execution_count": 21,
   "metadata": {},
   "outputs": [
    {
     "name": "stdout",
     "output_type": "stream",
     "text": [
      "[[[1.99376272 1.26792238 1.34635105 1.55443075 1.2184253 ]\n",
      "  [1.36216664 1.03016691 1.79672666 1.29301652 1.43479707]\n",
      "  [1.6575301  1.72322372 1.34209976 1.55826496 1.20599492]]\n",
      "\n",
      " [[1.32989821 1.64355617 1.46679742 1.23190266 1.07817957]\n",
      "  [1.58665367 1.86829743 1.62431903 1.62379305 1.13295477]\n",
      "  [1.78520883 1.28606445 1.35336161 1.88346483 1.85161226]]]\n"
     ]
    },
    {
     "data": {
      "text/plain": [
       "30"
      ]
     },
     "execution_count": 21,
     "metadata": {},
     "output_type": "execute_result"
    }
   ],
   "source": [
    "#10. Try to add a and c. Now it should work. Assign the sum to varialbe \"d\". But why does it work now?\n",
    "\n",
    "d = a1 + c\n",
    "print(d)\n",
    "d.size\n"
   ]
  },
  {
   "cell_type": "code",
   "execution_count": 8,
   "metadata": {},
   "outputs": [
    {
     "name": "stdout",
     "output_type": "stream",
     "text": [
      "[[[1.99376272 1.26792238 1.34635105 1.55443075 1.2184253 ]\n",
      "  [1.36216664 1.03016691 1.79672666 1.29301652 1.43479707]\n",
      "  [1.6575301  1.72322372 1.34209976 1.55826496 1.20599492]]\n",
      "\n",
      " [[1.32989821 1.64355617 1.46679742 1.23190266 1.07817957]\n",
      "  [1.58665367 1.86829743 1.62431903 1.62379305 1.13295477]\n",
      "  [1.78520883 1.28606445 1.35336161 1.88346483 1.85161226]]]\n"
     ]
    }
   ],
   "source": [
    "#11. Print a and d. Notice the difference and relation of the two array in terms of the values? Explain.\n",
    "print(d)\n",
    "#NOW IT WORKS BECAUSE BOTH ARRAYS HAVE THE SAME SIZE\n"
   ]
  },
  {
   "cell_type": "code",
   "execution_count": 9,
   "metadata": {},
   "outputs": [
    {
     "name": "stdout",
     "output_type": "stream",
     "text": [
      "[[[0.99376272 0.26792238 0.34635105 0.55443075 0.2184253 ]\n",
      "  [0.36216664 0.03016691 0.79672666 0.29301652 0.43479707]\n",
      "  [0.6575301  0.72322372 0.34209976 0.55826496 0.20599492]]\n",
      "\n",
      " [[0.32989821 0.64355617 0.46679742 0.23190266 0.07817957]\n",
      "  [0.58665367 0.86829743 0.62431903 0.62379305 0.13295477]\n",
      "  [0.78520883 0.28606445 0.35336161 0.88346483 0.85161226]]]\n",
      "[[[ True  True  True  True  True]\n",
      "  [ True  True  True  True  True]\n",
      "  [ True  True  True  True  True]]\n",
      "\n",
      " [[ True  True  True  True  True]\n",
      "  [ True  True  True  True  True]\n",
      "  [ True  True  True  True  True]]]\n"
     ]
    }
   ],
   "source": [
    "#12. Multiply a and c. Assign the result to e.\n",
    "e = np.multiply(a1,c)\n",
    "\n",
    "print(e)\n",
    "\n",
    "print(e==a1)"
   ]
  },
  {
   "cell_type": "code",
   "execution_count": 10,
   "metadata": {},
   "outputs": [
    {
     "name": "stdout",
     "output_type": "stream",
     "text": [
      "1.993762721154341\n",
      "1.0301669066902688\n",
      "1.484364779784467\n"
     ]
    }
   ],
   "source": [
    "#14. Identify the max, min, and mean values in d. Assign those values to variables \"d_max\", \"d_min\", and \"d_mean\"\n",
    "d_max=np.amax(d)\n",
    "print(d_max)\n",
    "d_min=np.amin(d)\n",
    "print(d_min)\n",
    "d_mean=np.mean(d)\n",
    "print(d_mean)"
   ]
  },
  {
   "cell_type": "code",
   "execution_count": 19,
   "metadata": {},
   "outputs": [
    {
     "name": "stdout",
     "output_type": "stream",
     "text": [
      "[[[0.99376272 0.26792238 0.34635105 0.55443075 0.2184253 ]\n",
      "  [0.36216664 0.03016691 0.79672666 0.29301652 0.43479707]\n",
      "  [0.6575301  0.72322372 0.34209976 0.55826496 0.20599492]]\n",
      "\n",
      " [[0.32989821 0.64355617 0.46679742 0.23190266 0.07817957]\n",
      "  [0.58665367 0.86829743 0.62431903 0.62379305 0.13295477]\n",
      "  [0.78520883 0.28606445 0.35336161 0.88346483 0.85161226]]]\n"
     ]
    },
    {
     "data": {
      "text/plain": [
       "30"
      ]
     },
     "execution_count": 19,
     "metadata": {},
     "output_type": "execute_result"
    }
   ],
   "source": [
    "#15. Now we want to label the values in d. First create an empty array \"f\" with the same shape (i.e. 2x3x5) as d using `np.empty`.\n",
    "f=np.empty((2,3,5))\n",
    "print(f)"
   ]
  },
  {
   "cell_type": "code",
   "execution_count": 33,
   "metadata": {},
   "outputs": [
    {
     "name": "stdout",
     "output_type": "stream",
     "text": [
      "[[[100  25  25  75  25]\n",
      "  [ 25   0  75  25  25]\n",
      "  [ 75  75  25  75  25]]\n",
      "\n",
      " [[ 25  75  25  25  25]\n",
      "  [ 75  75  75  75  25]\n",
      "  [ 75  25  25  75  75]]]\n"
     ]
    },
    {
     "data": {
      "text/plain": [
       "'\\n#17. Print d and f. Do you have your expected f?\\n#For instance, if your d is:\\n#array([[[1.85836099, 1.67064465, 1.62576044, 1.40243961, 1.88454931],\\n        [1.75354326, 1.69403643, 1.36729252, 1.61415071, 1.12104981],\\n        [1.72201435, 1.1862918 , 1.87078449, 1.7726778 , 1.88180042]],\\n\\n       [[1.44747908, 1.31673383, 1.02000951, 1.52218947, 1.97066381],\\n        [1.79129243, 1.74983003, 1.96028037, 1.85166831, 1.65450881],\\n        [1.18068344, 1.9587381 , 1.00656599, 1.93402165, 1.73514584]]])\\n\\n#Your f should be:\\n#array([[[ 75.,  75.,  75.,  25.,  75.],\\n        [ 75.,  75.,  25.,  25.,  25.],\\n        [ 75.,  25.,  75.,  75.,  75.]],\\n\\n       [[ 25.,  25.,  25.,  25., 100.],\\n        [ 75.,  75.,  75.,  75.,  75.],\\n        [ 25.,  75.,   0.,  75.,  75.]]])\\n'"
      ]
     },
     "execution_count": 33,
     "metadata": {},
     "output_type": "execute_result"
    }
   ],
   "source": [
    "#16. Populate the values in f. For each value in d, if it's larger than d_min but smaller than d_mean, assign 25 to the corresponding value in f.\n",
    "    #d_mean> value > d_min --> 25\n",
    "#If a value in d is larger than d_mean but smaller than d_max, assign 75 to the corresponding value in f.\n",
    "    #d_max> value > d_mean --> 75\n",
    "#If a value equals to d_mean, assign 50 to the corresponding value in f.\n",
    "    #value = d_mean --> 50\n",
    "#Assign 0 to the corresponding value(s) in f for d_min in d.\n",
    "#value = d_min --> 0\n",
    "#Assign 100 to the corresponding value(s) in f for d_max in d.\n",
    "#In the end, f should have only the following values: 0, 25, 50, 75, and 100.\n",
    "#Note: you don't have to use Numpy in this question.\n",
    "\n",
    "list_d = [x for y in d for v in y for x in v]\n",
    "list_f = []\n",
    "for n in list_d:\n",
    "    if n==d_mean:\n",
    "        list_f.append(50)\n",
    "    elif n==d_max:\n",
    "        list_f.append(100)\n",
    "    elif d_max> n > d_mean:\n",
    "        list_f.append(75)\n",
    "    elif d_mean> n > d_min:\n",
    "        list_f.append(25)\n",
    "    elif n==d_min:\n",
    "        list_f.append(0)\n",
    "f = np.array(list_f).reshape(2,3,5)\n",
    "\n",
    "print(f)\n",
    "\n",
    "\n",
    "\n",
    "\"\"\"\n",
    "#17. Print d and f. Do you have your expected f?\n",
    "#For instance, if your d is:\n",
    "#array([[[1.85836099, 1.67064465, 1.62576044, 1.40243961, 1.88454931],\n",
    "        [1.75354326, 1.69403643, 1.36729252, 1.61415071, 1.12104981],\n",
    "        [1.72201435, 1.1862918 , 1.87078449, 1.7726778 , 1.88180042]],\n",
    "\n",
    "       [[1.44747908, 1.31673383, 1.02000951, 1.52218947, 1.97066381],\n",
    "        [1.79129243, 1.74983003, 1.96028037, 1.85166831, 1.65450881],\n",
    "        [1.18068344, 1.9587381 , 1.00656599, 1.93402165, 1.73514584]]])\n",
    "\n",
    "#Your f should be:\n",
    "#array([[[ 75.,  75.,  75.,  25.,  75.],\n",
    "        [ 75.,  75.,  25.,  25.,  25.],\n",
    "        [ 75.,  25.,  75.,  75.,  75.]],\n",
    "\n",
    "       [[ 25.,  25.,  25.,  25., 100.],\n",
    "        [ 75.,  75.,  75.,  75.,  75.],\n",
    "        [ 25.,  75.,   0.,  75.,  75.]]])\n",
    "\"\"\""
   ]
  },
  {
   "cell_type": "code",
   "execution_count": 37,
   "metadata": {},
   "outputs": [
    {
     "name": "stdout",
     "output_type": "stream",
     "text": [
      "[[['B' 'D' 'D' 'C' 'D']\n",
      "  ['D' 'E' 'C' 'D' 'D']\n",
      "  ['C' 'C' 'D' 'C' 'D']]\n",
      "\n",
      " [['D' 'C' 'D' 'D' 'D']\n",
      "  ['C' 'C' 'C' 'C' 'D']\n",
      "  ['C' 'D' 'D' 'C' 'C']]]\n"
     ]
    }
   ],
   "source": [
    "#18. Bonus question: instead of using numbers (i.e. 0, 25, 50, 75, and 100), how to use string values \n",
    "#(\"A\", \"B\", \"C\", \"D\", and \"E\") to label the array elements? You are expecting the result to be:\n",
    "#array([[[ 'D',  'D',  'D',  'B',  'D'],\n",
    "#        [ 'D',  'D',  'B',  'B',  'B'],\n",
    "#        [ 'D',  'B',  'D',  'D',  'D']],\n",
    "#\n",
    "#       [[ 'B',  'B',  'B',  'B',  'E'],\n",
    "#        [ 'D',  'D',  'D',  'D',  'D'],\n",
    "#        [ 'B',  'D',   'A',  'D', 'D']]])\n",
    "#Again, you don't need Numpy in this question.\n",
    "\n",
    "\n",
    "list_d = [h for i in d for j in i for h in j]\n",
    "\n",
    "list_f2 = []\n",
    "for r in list_d:\n",
    "    if r==d_mean:\n",
    "        list_f2.append(\"A\")\n",
    "    elif r==d_max:\n",
    "        list_f2.append(\"B\")\n",
    "    elif d_max> r > d_mean:\n",
    "        list_f2.append(\"C\")\n",
    "    elif d_mean> r > d_min:\n",
    "        list_f2.append(\"D\")\n",
    "    elif r==d_min:\n",
    "        list_f2.append(\"E\")\n",
    "f2 = np.array(list_f2).reshape(2,3,5)\n",
    "\n",
    "print(f2)\n"
   ]
  }
 ],
 "metadata": {
  "kernelspec": {
   "display_name": "Python [conda env:data_env]",
   "language": "python",
   "name": "conda-env-data_env-py"
  },
  "language_info": {
   "codemirror_mode": {
    "name": "ipython",
    "version": 3
   },
   "file_extension": ".py",
   "mimetype": "text/x-python",
   "name": "python",
   "nbconvert_exporter": "python",
   "pygments_lexer": "ipython3",
   "version": "3.7.5"
  }
 },
 "nbformat": 4,
 "nbformat_minor": 2
}
