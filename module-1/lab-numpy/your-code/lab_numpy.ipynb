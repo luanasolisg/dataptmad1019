{
 "cells": [
  {
   "cell_type": "code",
   "execution_count": 1,
   "metadata": {},
   "outputs": [],
   "source": [
    "#1. Import the NUMPY package under the name np.\n",
    "import numpy as np\n",
    "\n",
    "#2. Print the NUMPY version and the configuration.\n",
    "\n",
    "\n",
    "\n",
    "\n",
    "\n"
   ]
  },
  {
   "cell_type": "code",
   "execution_count": 2,
   "metadata": {},
   "outputs": [
    {
     "name": "stdout",
     "output_type": "stream",
     "text": [
      "[[[0.48198405 0.55196844 0.04033729 0.64714882 0.02996618]\n",
      "  [0.39638389 0.08476308 0.69778431 0.10682555 0.96084056]\n",
      "  [0.25180474 0.01528995 0.57094537 0.10085053 0.08390111]]\n",
      "\n",
      " [[0.76393422 0.69638817 0.43354312 0.24860787 0.06969219]\n",
      "  [0.6398287  0.8320598  0.06162665 0.95053102 0.52781835]\n",
      "  [0.14293486 0.17167829 0.51131012 0.20203212 0.02300305]]]\n",
      "[[[4.62710373e-01 4.86230292e-01 8.36307914e-01 3.73611733e-01\n",
      "   1.36339637e-01]\n",
      "  [3.14823970e-01 8.54416184e-01 1.68089410e-01 8.77699762e-01\n",
      "   3.98609312e-02]\n",
      "  [6.02294213e-01 1.59706037e-01 9.69275970e-01 4.44218885e-01\n",
      "   6.66578891e-01]]\n",
      "\n",
      " [[5.13787244e-01 5.90676480e-01 3.85685430e-01 4.29503906e-01\n",
      "   1.40894854e-01]\n",
      "  [7.27594748e-01 5.70342048e-04 1.90177456e-01 4.02269950e-01\n",
      "   1.41835088e-01]\n",
      "  [2.15385368e-02 5.41719235e-02 2.17345985e-01 4.88686919e-01\n",
      "   9.38668550e-01]]]\n",
      "(2, 3, 5)\n"
     ]
    }
   ],
   "source": [
    "#3. Generate a 2x3x5 3-dimensional array with random values. Assign the array to variable \"a\"\n",
    "# Challenge: there are at least three easy ways that use numpy to generate random arrays. How many ways can you find?\n",
    "a1 = np.random.random((2,3,5))\n",
    "import numpy.random\n",
    "from numpy.random import random as a3\n",
    "a3 = ((2,3,5))\n",
    "\n",
    "#4. Print a.\n",
    "print(a1)\n",
    "print(np.random.random((2,3,5)))\n",
    "print(a3)"
   ]
  },
  {
   "cell_type": "code",
   "execution_count": 3,
   "metadata": {},
   "outputs": [
    {
     "name": "stdout",
     "output_type": "stream",
     "text": [
      "[[[1. 1. 1.]\n",
      "  [1. 1. 1.]]\n",
      "\n",
      " [[1. 1. 1.]\n",
      "  [1. 1. 1.]]\n",
      "\n",
      " [[1. 1. 1.]\n",
      "  [1. 1. 1.]]\n",
      "\n",
      " [[1. 1. 1.]\n",
      "  [1. 1. 1.]]\n",
      "\n",
      " [[1. 1. 1.]\n",
      "  [1. 1. 1.]]]\n"
     ]
    }
   ],
   "source": [
    "#5. Create a 5x2x3 3-dimensional array with all values equaling 1.\n",
    "#Assign the array to variable \"b\"\n",
    "\n",
    "import numpy as np\n",
    "\n",
    "b = np.ones((5,2,3))\n",
    "\n",
    "#6. Print b.\n",
    "\n",
    "print(b)\n"
   ]
  },
  {
   "cell_type": "code",
   "execution_count": 4,
   "metadata": {},
   "outputs": [
    {
     "name": "stdout",
     "output_type": "stream",
     "text": [
      "True\n"
     ]
    }
   ],
   "source": [
    "#7. Do a and b have the same size? How do you prove that in Python code?\n",
    "print(a1.size == b.size)\n",
    "\n",
    "\n"
   ]
  },
  {
   "cell_type": "code",
   "execution_count": 5,
   "metadata": {},
   "outputs": [],
   "source": [
    "#8. Are you able to add a and b? Why or why not?\n",
    "#NO BECAUSE THEY DO NOT HAVE THE SAME SIZE\n"
   ]
  },
  {
   "cell_type": "code",
   "execution_count": 6,
   "metadata": {},
   "outputs": [
    {
     "name": "stdout",
     "output_type": "stream",
     "text": [
      "[[[1. 1. 1. 1. 1.]\n",
      "  [1. 1. 1. 1. 1.]\n",
      "  [1. 1. 1. 1. 1.]]\n",
      "\n",
      " [[1. 1. 1. 1. 1.]\n",
      "  [1. 1. 1. 1. 1.]\n",
      "  [1. 1. 1. 1. 1.]]]\n"
     ]
    }
   ],
   "source": [
    "#9. Transpose b so that it has the same structure of a (i.e. become a 2x3x5 array). Assign the transposed array to varialbe \"c\".\n",
    "\n",
    "c = b.transpose(1,2,0)\n",
    "print(c)\n"
   ]
  },
  {
   "cell_type": "code",
   "execution_count": 7,
   "metadata": {},
   "outputs": [
    {
     "name": "stdout",
     "output_type": "stream",
     "text": [
      "[[[1.48198405 1.55196844 1.04033729 1.64714882 1.02996618]\n",
      "  [1.39638389 1.08476308 1.69778431 1.10682555 1.96084056]\n",
      "  [1.25180474 1.01528995 1.57094537 1.10085053 1.08390111]]\n",
      "\n",
      " [[1.76393422 1.69638817 1.43354312 1.24860787 1.06969219]\n",
      "  [1.6398287  1.8320598  1.06162665 1.95053102 1.52781835]\n",
      "  [1.14293486 1.17167829 1.51131012 1.20203212 1.02300305]]]\n"
     ]
    }
   ],
   "source": [
    "#10. Try to add a and c. Now it should work. Assign the sum to varialbe \"d\". But why does it work now?\n",
    "\n",
    "d = a1 + c\n",
    "print(d)\n"
   ]
  },
  {
   "cell_type": "code",
   "execution_count": 8,
   "metadata": {},
   "outputs": [
    {
     "name": "stdout",
     "output_type": "stream",
     "text": [
      "[[[1.48198405 1.55196844 1.04033729 1.64714882 1.02996618]\n",
      "  [1.39638389 1.08476308 1.69778431 1.10682555 1.96084056]\n",
      "  [1.25180474 1.01528995 1.57094537 1.10085053 1.08390111]]\n",
      "\n",
      " [[1.76393422 1.69638817 1.43354312 1.24860787 1.06969219]\n",
      "  [1.6398287  1.8320598  1.06162665 1.95053102 1.52781835]\n",
      "  [1.14293486 1.17167829 1.51131012 1.20203212 1.02300305]]]\n"
     ]
    }
   ],
   "source": [
    "#11. Print a and d. Notice the difference and relation of the two array in terms of the values? Explain.\n",
    "print(d)\n",
    "#NOW IT WORKS BECAUSE BOTH ARRAYS HAVE THE SAME SIZE\n"
   ]
  },
  {
   "cell_type": "code",
   "execution_count": 9,
   "metadata": {},
   "outputs": [
    {
     "name": "stdout",
     "output_type": "stream",
     "text": [
      "[[[0.48198405 0.55196844 0.04033729 0.64714882 0.02996618]\n",
      "  [0.39638389 0.08476308 0.69778431 0.10682555 0.96084056]\n",
      "  [0.25180474 0.01528995 0.57094537 0.10085053 0.08390111]]\n",
      "\n",
      " [[0.76393422 0.69638817 0.43354312 0.24860787 0.06969219]\n",
      "  [0.6398287  0.8320598  0.06162665 0.95053102 0.52781835]\n",
      "  [0.14293486 0.17167829 0.51131012 0.20203212 0.02300305]]]\n",
      "[[[ True  True  True  True  True]\n",
      "  [ True  True  True  True  True]\n",
      "  [ True  True  True  True  True]]\n",
      "\n",
      " [[ True  True  True  True  True]\n",
      "  [ True  True  True  True  True]\n",
      "  [ True  True  True  True  True]]]\n"
     ]
    }
   ],
   "source": [
    "#12. Multiply a and c. Assign the result to e.\n",
    "e = np.multiply(a1,c)\n",
    "\n",
    "print(e)\n",
    "\n",
    "print(e==a1)"
   ]
  },
  {
   "cell_type": "code",
   "execution_count": 10,
   "metadata": {},
   "outputs": [
    {
     "name": "stdout",
     "output_type": "stream",
     "text": [
      "1.960840564681535\n",
      "1.0152899544665228\n",
      "1.3765260806469262\n"
     ]
    }
   ],
   "source": [
    "#14. Identify the max, min, and mean values in d. Assign those values to variables \"d_max\", \"d_min\", and \"d_mean\"\n",
    "d_max=np.amax(d)\n",
    "print(d_max)\n",
    "d_min=np.amin(d)\n",
    "print(d_min)\n",
    "d_mean=np.mean(d)\n",
    "print(d_mean)"
   ]
  },
  {
   "cell_type": "code",
   "execution_count": 11,
   "metadata": {},
   "outputs": [
    {
     "name": "stdout",
     "output_type": "stream",
     "text": [
      "[[[0.48198405 0.55196844 0.04033729 0.64714882 0.02996618]\n",
      "  [0.39638389 0.08476308 0.69778431 0.10682555 0.96084056]\n",
      "  [0.25180474 0.01528995 0.57094537 0.10085053 0.08390111]]\n",
      "\n",
      " [[0.76393422 0.69638817 0.43354312 0.24860787 0.06969219]\n",
      "  [0.6398287  0.8320598  0.06162665 0.95053102 0.52781835]\n",
      "  [0.14293486 0.17167829 0.51131012 0.20203212 0.02300305]]]\n"
     ]
    }
   ],
   "source": [
    "#15. Now we want to label the values in d. First create an empty array \"f\" with the same shape (i.e. 2x3x5) as d using `np.empty`.\n",
    "f=np.empty((2,3,5))\n",
    "print(f)"
   ]
  },
  {
   "cell_type": "code",
   "execution_count": 31,
   "metadata": {},
   "outputs": [
    {
     "ename": "SyntaxError",
     "evalue": "invalid syntax (<ipython-input-31-4ef97109d06e>, line 16)",
     "output_type": "error",
     "traceback": [
      "\u001b[0;36m  File \u001b[0;32m\"<ipython-input-31-4ef97109d06e>\"\u001b[0;36m, line \u001b[0;32m16\u001b[0m\n\u001b[0;31m    else x==d_max:\u001b[0m\n\u001b[0m         ^\u001b[0m\n\u001b[0;31mSyntaxError\u001b[0m\u001b[0;31m:\u001b[0m invalid syntax\n"
     ]
    }
   ],
   "source": [
    "#16. Populate the values in f. For each value in d, if it's larger than d_min but smaller than d_mean, assign 25 to the corresponding value in f.\n",
    "    #d_mean> value > d_min --> 25\n",
    "#If a value in d is larger than d_mean but smaller than d_max, assign 75 to the corresponding value in f.\n",
    "    #d_max> value > d_mean --> 75\n",
    "#If a value equals to d_mean, assign 50 to the corresponding value in f.\n",
    "    #value = d_mean --> 50\n",
    "#Assign 0 to the corresponding value(s) in f for d_min in d.\n",
    "#value = d_min --> 0\n",
    "#Assign 100 to the corresponding value(s) in f for d_max in d.\n",
    "#In the end, f should have only the following values: 0, 25, 50, 75, and 100.\n",
    "#Note: you don't have to use Numpy in this question.\n",
    "\n",
    "for x in f_array:\n",
    "    if x==d_mean:\n",
    "        f_array.append(0)\n",
    "    else x==d_max:\n",
    "        f_array.apped(100)\n",
    "    else d_max> x > d_mean:\n",
    "        f_array.append(75)\n",
    "    else d_mean> x > d_min:\n",
    "        f_array.append(25)\n",
    "print(f_array)\n",
    "                \n",
    "    \n",
    "\n",
    "\n",
    "\"\"\"\n",
    "#17. Print d and f. Do you have your expected f?\n",
    "#For instance, if your d is:\n",
    "#array([[[1.85836099, 1.67064465, 1.62576044, 1.40243961, 1.88454931],\n",
    "        [1.75354326, 1.69403643, 1.36729252, 1.61415071, 1.12104981],\n",
    "        [1.72201435, 1.1862918 , 1.87078449, 1.7726778 , 1.88180042]],\n",
    "\n",
    "       [[1.44747908, 1.31673383, 1.02000951, 1.52218947, 1.97066381],\n",
    "        [1.79129243, 1.74983003, 1.96028037, 1.85166831, 1.65450881],\n",
    "        [1.18068344, 1.9587381 , 1.00656599, 1.93402165, 1.73514584]]])\n",
    "\n",
    "#Your f should be:\n",
    "#array([[[ 75.,  75.,  75.,  25.,  75.],\n",
    "        [ 75.,  75.,  25.,  25.,  25.],\n",
    "        [ 75.,  25.,  75.,  75.,  75.]],\n",
    "\n",
    "       [[ 25.,  25.,  25.,  25., 100.],\n",
    "        [ 75.,  75.,  75.,  75.,  75.],\n",
    "        [ 25.,  75.,   0.,  75.,  75.]]])\n",
    "\"\"\""
   ]
  },
  {
   "cell_type": "code",
   "execution_count": null,
   "metadata": {},
   "outputs": [],
   "source": []
  }
 ],
 "metadata": {
  "kernelspec": {
   "display_name": "Python [conda env:data_env]",
   "language": "python",
   "name": "conda-env-data_env-py"
  },
  "language_info": {
   "codemirror_mode": {
    "name": "ipython",
    "version": 3
   },
   "file_extension": ".py",
   "mimetype": "text/x-python",
   "name": "python",
   "nbconvert_exporter": "python",
   "pygments_lexer": "ipython3",
   "version": "3.7.5"
  }
 },
 "nbformat": 4,
 "nbformat_minor": 2
}
